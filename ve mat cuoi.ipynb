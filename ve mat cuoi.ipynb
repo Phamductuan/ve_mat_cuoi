{
 "cells": [
  {
   "cell_type": "code",
   "execution_count": null,
   "id": "c665fc9f",
   "metadata": {},
   "outputs": [],
   "source": [
    "import turtle\n",
    "t = turtle. Turtle()\n",
    "t.pencolor(\"blue\")\n",
    "t.speed(9)\n",
    "# ve mat ben ngoai\n",
    "facesize = 200\n",
    "t.pensize(5)\n",
    "t.fillcolor(\"#32F0DE\");t.begin_fill();t.penup();t.goto(0,-200);t.pendown();t.circle(facesize);t.end_fill()\n",
    "# ve doi mat\n",
    "def drawcircle(m,radius,color):\n",
    "    t.color(color)\n",
    "    t.begin_fill()\n",
    "    t.penup()\n",
    "    t.circle(radius)\n",
    "    t.pendown()\n",
    "    t.end_fill()\n",
    "t.penup();t.goto(-100,50);t.pendown()\n",
    "drawcircle(t,17.5,\"red\")\n",
    "t.penup();t.goto(100,50);t.pendown()\n",
    "drawcircle(t,17.5,\"red\")\n",
    "# ve mui\n",
    "t.pencolor(\"#3263F0\")\n",
    "t.begin_fill()\n",
    "t.penup();t.goto(0,30);t.pendown()\n",
    "t.circle(-50,steps = 3)\n",
    "t.end_fill()\n",
    "# ve mieng cuoi\n",
    "t.fillcolor(\"#935116\")\n",
    "t.begin_fill();t.penup();t.goto(-55,-80);t.pendown();t.fd(110);t.rt(90);t.circle(-55,180)\n",
    "t.end_fill()\n",
    "turtle.done()"
   ]
  },
  {
   "cell_type": "code",
   "execution_count": null,
   "id": "271aec03",
   "metadata": {},
   "outputs": [],
   "source": []
  }
 ],
 "metadata": {
  "kernelspec": {
   "display_name": "Python 3 (ipykernel)",
   "language": "python",
   "name": "python3"
  },
  "language_info": {
   "codemirror_mode": {
    "name": "ipython",
    "version": 3
   },
   "file_extension": ".py",
   "mimetype": "text/x-python",
   "name": "python",
   "nbconvert_exporter": "python",
   "pygments_lexer": "ipython3",
   "version": "3.9.6"
  }
 },
 "nbformat": 4,
 "nbformat_minor": 5
}
